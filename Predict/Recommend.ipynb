{
 "cells": [
  {
   "cell_type": "code",
   "execution_count": 25,
   "metadata": {},
   "outputs": [],
   "source": [
    "import pandas as pd\n",
    "import csv\n",
    "import ast"
   ]
  },
  {
   "cell_type": "code",
   "execution_count": 26,
   "metadata": {},
   "outputs": [],
   "source": [
    "#load files\n",
    "with open('../Model/models/recommendationDict.csv', 'r') as csv_file:\n",
    "    reader = csv.reader(csv_file)\n",
    "    recommendationDict = dict(reader)\n",
    "recommendationDict = {int(k):ast.literal_eval(v) for k,v in recommendationDict.items()}"
   ]
  },
  {
   "cell_type": "code",
   "execution_count": 27,
   "metadata": {},
   "outputs": [],
   "source": [
    "'''\n",
    "work flow\n",
    "the user request a personalized feed\n",
    "Is the user in the recommendDictionary?\n",
    "    Yes ---- Is it up to date? ---- need to comapre 2 states of db (purchases between t1 and t2)\n",
    "        Yes ---- Show\n",
    "        No ---- update it; then show\n",
    "    No ---- does the user have preferred categories?\n",
    "        Yes ---- show according to the categories\n",
    "        No ---- show default\n",
    "'''\n",
    "def hasHistory(userId, recommendationDict):\n",
    "    return recommendationDict[userId]\n",
    "\n",
    "# the data component retrieves the user product table\n",
    "# and compare with the existing table\n",
    "# if the user has bought anything inbetween, return false\n",
    "# else return true\n",
    "def isHistoryUpdated(userId):    \n",
    "    return True\n",
    "\n",
    "#load the userItemDictionary\n",
    "#update it, and save it\n",
    "\n",
    "#################################\n",
    "#There is a concurrency issue\n",
    "#################################\n",
    "def updateHistory(userId):\n",
    "    return True\n",
    "\n",
    "# load and read the userCategory table\n",
    "def hasCategories(userId):\n",
    "    return True\n",
    "\n",
    "def recommendByCategories(userId):\n",
    "    return [\"test\"] * 10\n",
    "\n",
    "def recommendDefault():\n",
    "    return [\"test\"] * 10\n",
    "#API to create a personal feed\n",
    "#need to provide a userId, the recommendationDict argument should be recommendationDict\n",
    "#which is constructed in the model component and loaded in the block above\n",
    "\n",
    "def getRecommendationList(userId, recommendationDict, num, pageNumber):\n",
    "    if hasHistory(userId,recommendationDict):\n",
    "        if isHistoryUpdated(userId):\n",
    "            return recommendationDict[userId][(pageNumber - 1)* num : pageNumber * num]\n",
    "        else:\n",
    "            updateHistory(userId)\n",
    "            return recommendationDict[userId]\n",
    "    elif hasCategories(userId):\n",
    "        return recommendByCategories(userId)\n",
    "    else:\n",
    "        return recommendDefault()\n",
    "\n",
    "# example usage\n",
    "#getRecommendationList(771, recommendationDict,10, 3)"
   ]
  },
  {
   "cell_type": "code",
   "execution_count": 30,
   "metadata": {},
   "outputs": [
    {
     "data": {
      "text/plain": [
       "['COOYA USB Type C Cable for Huawei Mate 9, 5A Super Charging Cable(6.6Ft/2M), Nylon Braided Hi-Speed Charger Long Cord for Huawei Mate 9 Pro/Mate 10/mate 10 Pro,Huawei P10/P10 Plus(Black)',\n",
       " 'Corsair LL Series LL120 RGB 120mm Dual Light Loop RGB LED PWM Fan — 3 Fan Pack .',\n",
       " 'Sabaj Portable Headphone Amplifier with USB DAC',\n",
       " 'JBL Pulse 3 Wireless Bluetooth IPX7 Waterproof Speaker (Black)',\n",
       " 'Quick Dry Microfiber Towel 3 Colors Hair Magic Drying Wrap Hat Cap Bathing Hot',\n",
       " 'Daocaoren Stainless Steel Vacuum Thermal Flask',\n",
       " 'HP SPROCKET ZINK® Sticky-backed 2',\n",
       " 'Corsair Crystal Series 570X RGB ATX Mid-Tower Case - White',\n",
       " 'Original Xiaomi Global Version MI TV BOX 3 Smart 4K Ultra HD Movie WIFI Google Cast Netflix Media Player Set-top Box(Export)',\n",
       " 'SanDisk Extreme A1 128GB microSDXC UHS-I U3 V30 (Up to 100MB/s Read) Memory Card for Action Cameras SDSQXAF']"
      ]
     },
     "execution_count": 30,
     "metadata": {},
     "output_type": "execute_result"
    }
   ],
   "source": [
    "getRecommendationList(771, recommendationDict,10, 3)"
   ]
  },
  {
   "cell_type": "code",
   "execution_count": null,
   "metadata": {},
   "outputs": [],
   "source": []
  }
 ],
 "metadata": {
  "kernelspec": {
   "display_name": "Python 3",
   "language": "python",
   "name": "python3"
  },
  "language_info": {
   "codemirror_mode": {
    "name": "ipython",
    "version": 3
   },
   "file_extension": ".py",
   "mimetype": "text/x-python",
   "name": "python",
   "nbconvert_exporter": "python",
   "pygments_lexer": "ipython3",
   "version": "3.6.5"
  }
 },
 "nbformat": 4,
 "nbformat_minor": 2
}
