{
 "cells": [
  {
   "cell_type": "code",
   "execution_count": 1,
   "metadata": {},
   "outputs": [
    {
     "name": "stderr",
     "output_type": "stream",
     "text": [
      "/usr/local/lib/python3.6/dist-packages/psycopg2/__init__.py:144: UserWarning: The psycopg2 wheel package will be renamed from release 2.8; in order to keep installing from binary please use \"pip install psycopg2-binary\" instead. For details see: <http://initd.org/psycopg/docs/install.html#binary-install-from-pypi>.\n",
      "  \"\"\")\n"
     ]
    }
   ],
   "source": [
    "import psycopg2\n",
    "import pandas as pd\n",
    "import pathlib"
   ]
  },
  {
   "cell_type": "code",
   "execution_count": 2,
   "metadata": {},
   "outputs": [],
   "source": [
    "connect_str = \"dbname='rates_prod' user='postgres' host='localhost' \" + \\\n",
    "                \"password='postgres'\"\n",
    "# use our connection values to establish a connection\n",
    "conn = psycopg2.connect(connect_str)\n",
    "# create a psycopg2 cursor that can execute queries\n",
    "cursor = conn.cursor()"
   ]
  },
  {
   "cell_type": "code",
   "execution_count": 3,
   "metadata": {},
   "outputs": [],
   "source": [
    "#this block loads dataframes from csv files and extract relevant data\n",
    "\n",
    "# create dataframe (id, description)\n",
    "df = pd.read_sql_query('select * from \"products\"',con=conn)\n",
    "df1temp1 = df.iloc[:,0:2]\n",
    "df1temp2 = df.iloc[:,3:4]\n",
    "df1 = pd.concat([df1temp1.T, df1temp2.T]).T\n",
    "df2temp1 = df1.iloc[:,0:1]\n",
    "df2temp2 = df1.iloc[:,2:3]\n",
    "df2 = pd.concat([df2temp1.T, df2temp2.T]).T\n",
    "\n",
    "# building the table of users and the items they like\n",
    "# only for identified users and products with pid (with description)\n",
    "df3 = pd.read_sql_query('select * from \"listings_users\"',con=conn)\n",
    "df4 = pd.read_sql_query('select * from \"listings\"',con=conn)\n",
    "df4 = df4.iloc[:,0:2]\n",
    "df4 = df4.dropna()\n",
    "df3 = df3.iloc[:,1:3]\n",
    "df3.columns = ['id', 'user_id']\n",
    "df3 = df3.dropna()\n",
    "# preference among all products visited is not considered here\n",
    "# this can be added later\n",
    "df5 = pd.merge(df3, df4, on='id')\n",
    "df5 = df5.drop_duplicates()\n",
    "df5[['user_id', 'product_id']] = df5[['user_id', 'product_id']].astype(int)\n",
    "\n",
    "# create dfTime to rank items\n",
    "df = df[['id','last_created']]"
   ]
  },
  {
   "cell_type": "code",
   "execution_count": 4,
   "metadata": {},
   "outputs": [],
   "source": [
    "#this block saves data to local storage as csv files\n",
    "pathlib.Path('data').mkdir(parents=True, exist_ok=True) \n",
    "df.to_csv('data/time.csv', index=False)\n",
    "df2.to_csv('data/description.csv', index=False)\n",
    "df5.to_csv('data/userProduct.csv', index=False)"
   ]
  },
  {
   "cell_type": "code",
   "execution_count": null,
   "metadata": {},
   "outputs": [],
   "source": []
  }
 ],
 "metadata": {
  "kernelspec": {
   "display_name": "Python 3",
   "language": "python",
   "name": "python3"
  },
  "language_info": {
   "codemirror_mode": {
    "name": "ipython",
    "version": 3
   },
   "file_extension": ".py",
   "mimetype": "text/x-python",
   "name": "python",
   "nbconvert_exporter": "python",
   "pygments_lexer": "ipython3",
   "version": "3.6.5"
  }
 },
 "nbformat": 4,
 "nbformat_minor": 2
}
