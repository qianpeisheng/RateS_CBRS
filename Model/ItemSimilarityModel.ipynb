{
 "cells": [
  {
   "cell_type": "code",
   "execution_count": 1,
   "metadata": {},
   "outputs": [],
   "source": [
    "import pandas as pd\n",
    "import numpy as np\n",
    "from sklearn.feature_extraction.text import TfidfVectorizer\n",
    "from sklearn.metrics.pairwise import linear_kernel\n",
    "import time\n",
    "import csv\n",
    "import pathlib"
   ]
  },
  {
   "cell_type": "code",
   "execution_count": 2,
   "metadata": {},
   "outputs": [],
   "source": [
    "df = pd.read_csv('../DataIO/data/description.csv')"
   ]
  },
  {
   "cell_type": "code",
   "execution_count": 3,
   "metadata": {},
   "outputs": [
    {
     "name": "stdout",
     "output_type": "stream",
     "text": [
      "Training completed. It takes 4.59751033782959 seconds\n"
     ]
    }
   ],
   "source": [
    "#this block trains the model\n",
    "\n",
    "def train(df):\n",
    "    start_time = time.time()\n",
    "    tf = TfidfVectorizer(analyzer='word', ngram_range=(1, 3), min_df=0, stop_words='english')\n",
    "    tfidf_matrix = tf.fit_transform(df['description'])\n",
    "    cosine_similarities = linear_kernel(tfidf_matrix, tfidf_matrix)\n",
    "    results = {}\n",
    "    for idx, row in df.iterrows():\n",
    "        similar_indices = cosine_similarities[idx].argsort()[:-100:-1]\n",
    "        similar_items = [(cosine_similarities[idx][i], df['id'][i]) for i in similar_indices]\n",
    "    \n",
    "        # First item is the item itself, so remove it.\n",
    "        # Each dictionary entry is like: [(1,2), (3,4)], with each tuple being (score, item_id)\n",
    "        results[row['id']] = similar_items[1:]\n",
    "    print(\"Training completed. It takes %s seconds\" % (time.time() - start_time))\n",
    "    return results\n",
    "\n",
    "results = train(df)"
   ]
  },
  {
   "cell_type": "code",
   "execution_count": 5,
   "metadata": {},
   "outputs": [],
   "source": [
    "#result is a dictionary\n",
    "#key is product id\n",
    "#value is a list of pair(score, product id)\n",
    "#save this to csv\n",
    "pathlib.Path('models').mkdir(parents=True, exist_ok=True)\n",
    "\n",
    "def saveModelToCSV(results):\n",
    "    with open('models/itemSimilarity.csv', 'w') as csv_file:\n",
    "        writer = csv.writer(csv_file)\n",
    "        for key, value in results.items():\n",
    "            writer.writerow([key, value])\n",
    "    csv_file.close()\n",
    "saveModelToCSV(results)"
   ]
  },
  {
   "cell_type": "code",
   "execution_count": null,
   "metadata": {},
   "outputs": [],
   "source": []
  }
 ],
 "metadata": {
  "kernelspec": {
   "display_name": "Python 3",
   "language": "python",
   "name": "python3"
  },
  "language_info": {
   "codemirror_mode": {
    "name": "ipython",
    "version": 3
   },
   "file_extension": ".py",
   "mimetype": "text/x-python",
   "name": "python",
   "nbconvert_exporter": "python",
   "pygments_lexer": "ipython3",
   "version": "3.6.5"
  }
 },
 "nbformat": 4,
 "nbformat_minor": 2
}
