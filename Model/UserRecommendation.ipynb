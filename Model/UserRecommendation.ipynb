{
 "cells": [
  {
   "cell_type": "code",
   "execution_count": 181,
   "metadata": {},
   "outputs": [],
   "source": [
    "import pandas as pd\n",
    "import csv\n",
    "import time\n",
    "from operator import itemgetter\n",
    "import ast\n",
    "import pathlib"
   ]
  },
  {
   "cell_type": "code",
   "execution_count": 174,
   "metadata": {},
   "outputs": [],
   "source": [
    "#load files\n",
    "with open('models/itemSimilarity.csv', 'r') as csv_file:\n",
    "    reader = csv.reader(csv_file)\n",
    "    itemSimilarityDict = dict(reader)\n",
    "idNameDescription = pd.read_csv('../DataIO/data/idNameDescription.csv')\n",
    "userProduct = pd.read_csv('../DataIO/data/userProduct.csv')\n",
    "productTime = pd.read_csv('../DataIO/data/productTime.csv')"
   ]
  },
  {
   "cell_type": "code",
   "execution_count": 175,
   "metadata": {},
   "outputs": [],
   "source": [
    "# convert string to number\n",
    "itemSimilarityDict = {int(k):ast.literal_eval(v) for k,v in itemSimilarityDict.items()}"
   ]
  },
  {
   "cell_type": "code",
   "execution_count": 176,
   "metadata": {},
   "outputs": [],
   "source": [
    "# this block constructs the user item dictionary, with some helper functions\n",
    "def getItem(id, idNameDescription):\n",
    "    return idNameDescription.loc[idNameDescription['id'] == id].values[0][1]\n",
    "\n",
    "# Just reads the results out of the dictionary. No real logic here.\n",
    "def recommend(item_id, num, idNameDescription, itemSimilarityDict):\n",
    "    #print(\"Recommending \" + str(num) + \" products similar to \" + getItem(item_id) + \"...\")\n",
    "    #print(\"-------\")\n",
    "    #print(type(itemSimilarityDict[item_id]))\n",
    "    #print(itemSimilarityDict[item_id][:num])\n",
    "    recs = itemSimilarityDict[item_id][:num]\n",
    "    itemList = []\n",
    "    for rec in recs:\n",
    "        itemName = getItem(rec[1], idNameDescription)\n",
    "        #print(\"Recommended: \" + itemName + \" (score:\" + str(rec[0]) + \")\")\n",
    "        itemList.append([rec[1],itemName])\n",
    "    return itemList\n",
    "\n",
    "def createUserItemDict(df):\n",
    "    arr = df.iloc[:,1:3].values\n",
    "    dict = {}\n",
    "    for record in arr:\n",
    "        if record[0] in dict:\n",
    "            dict[record[0]].append(record[1])\n",
    "        else:\n",
    "            dict[record[0]] = [record[1]]\n",
    "    return dict\n",
    "userItemDict = createUserItemDict(userProduct)"
   ]
  },
  {
   "cell_type": "code",
   "execution_count": 177,
   "metadata": {},
   "outputs": [],
   "source": [
    "# this block defines the function to get recommendation for a specific user, with some helper functions\n",
    "\n",
    "def orderByTime(arr, df):\n",
    "    arrWithTime = []\n",
    "    for record in arr:\n",
    "        for item in record:\n",
    "            row = df.loc[df['id'] == item[0]]\n",
    "            recordWithTime = item\n",
    "            recordWithTime.append(row.values[0][1])\n",
    "            arrWithTime.append(recordWithTime)\n",
    "    orderedList = list(reversed(sorted(arrWithTime, key=itemgetter(2))))\n",
    "    return orderedList\n",
    "\n",
    "# helper function to remove dulplicates in a list, preserving order\n",
    "# ref: https://stackoverflow.com/questions/480214/how-do-you-remove-duplicates-from-a-list-whilst-preserving-order\n",
    "def f7(seq):\n",
    "    seen = set()\n",
    "    seen_add = seen.add\n",
    "    return [x for x in seq if not (x in seen or seen_add(x))]\n",
    "\n",
    "#orderedList: [[id, name, time], []]\n",
    "def removeDuplicates(itemList, orderedList):\n",
    "    #first, remove duplicates in the orderedList\n",
    "    #it is because different items the user likes can have the same similar item in common\n",
    "    # conversion between list and tuple because list is not hashable\n",
    "    orderedTuples = []\n",
    "    for record in orderedList:\n",
    "        orderedTuples.append(tuple(record))\n",
    "    orderedTuplesWOD = f7(orderedTuples)\n",
    "    orderedListWOD = []\n",
    "    for record in orderedTuplesWOD:\n",
    "        orderedListWOD.append(list(record))\n",
    "    #second, one item the user purchases may appear in the similar item list of another item\n",
    "    #which needs to be removed\n",
    "    #the assumption is that the user does not want to see items she purchased in the personalized feed\n",
    "    tempList = []\n",
    "    duplicateFlag = False\n",
    "    for record in orderedListWOD:\n",
    "        for item_id in itemList:\n",
    "            if item_id == record[0]:\n",
    "                duplicateFlag = True\n",
    "                break\n",
    "        if not duplicateFlag:\n",
    "            tempList.append(record)\n",
    "        duplicateFlag = False\n",
    "    nameList = []\n",
    "    for record in tempList:\n",
    "        nameList.append(record[1])\n",
    "    return nameList\n",
    "\n",
    "#return num items based on the user browse history and description of items\n",
    "def getRecommendation(userId, num, userItemDict, dfTime, idNameDescription, itemSimilarityDict):\n",
    "    itemList = userItemDict[userId]\n",
    "    arr = []\n",
    "    for item_id in itemList:\n",
    "        # the worst case is that all recommendation are repeated for different items\n",
    "        arr.append(recommend(item_id, num, idNameDescription, itemSimilarityDict))\n",
    "    orderedList = orderByTime(arr, dfTime)\n",
    "    return removeDuplicates(itemList, orderedList)"
   ]
  },
  {
   "cell_type": "code",
   "execution_count": 178,
   "metadata": {},
   "outputs": [
    {
     "name": "stdout",
     "output_type": "stream",
     "text": [
      "RecommendationDict constructed. It has 198 entries.\n",
      "Constructing recommendation Dictionary takes 7.418858766555786 seconds\n"
     ]
    }
   ],
   "source": [
    "#this block pre-computes recommendation for all users, with some helper functions\n",
    "#note the list of all users is not available now\n",
    "#And the placeholders need to change\n",
    "\n",
    "def hasNoHistory(userId, userItemDict):\n",
    "    return not userId in userItemDict;\n",
    "\n",
    "def getRecommendationForUserWOHistory(userId):\n",
    "    #placeholder\n",
    "    return ['DRYPERS WEE WEE DRY BABY DIAPERS'] * 10\n",
    "\n",
    "# pre-compute and save the recommendation for each user\n",
    "# so fectching the result takes shorter time\n",
    "#return a dictionary where the keys are userIds, and values are recommended item names \n",
    "def createRecommendationDict(userItemDict, dfTime, idNameDescription, itemSimilarityDict):\n",
    "    start_time = time.time()\n",
    "    \n",
    "    numberOfRecom = 10\n",
    "    recommendationDict = {}\n",
    "    \n",
    "    # currently the list of userId is not available\n",
    "    #so use the keys of userItemDict instead\n",
    "    for key, value in userItemDict.items():\n",
    "        userId = key\n",
    "        if hasNoHistory(userId, userItemDict):\n",
    "            #a personalized feed is not available since the user has no purchase history\n",
    "            #TODO, use categories\n",
    "            recommendationDict[userId] =  getRecommendationForUserWOHistory(userId)\n",
    "        else:\n",
    "            recommendationDict[userId] = getRecommendation(userId, numberOfRecom, userItemDict, dfTime, idNameDescription, itemSimilarityDict)\n",
    "    print('RecommendationDict constructed. It has ' + str(len(recommendationDict)) + ' entries.')\n",
    "    print(\"Constructing recommendation Dictionary takes %s seconds\" % (time.time() - start_time))\n",
    "    return recommendationDict\n",
    "\n",
    "recommendationDict = createRecommendationDict(userItemDict, productTime, idNameDescription, itemSimilarityDict)"
   ]
  },
  {
   "cell_type": "code",
   "execution_count": 182,
   "metadata": {},
   "outputs": [],
   "source": [
    "#result is a dictionary\n",
    "#key is product id\n",
    "#value is a list of pair(score, product id)\n",
    "#save this to csv\n",
    "pathlib.Path('models').mkdir(parents=True, exist_ok=True)\n",
    "\n",
    "def saveModelToCSV(results):\n",
    "    with open('models/recommendationDict.csv', 'w') as csv_file:\n",
    "        writer = csv.writer(csv_file)\n",
    "        for key, value in results.items():\n",
    "            writer.writerow([key, value])\n",
    "    csv_file.close()\n",
    "saveModelToCSV(recommendationDict)"
   ]
  },
  {
   "cell_type": "code",
   "execution_count": null,
   "metadata": {},
   "outputs": [],
   "source": []
  }
 ],
 "metadata": {
  "kernelspec": {
   "display_name": "Python 3",
   "language": "python",
   "name": "python3"
  },
  "language_info": {
   "codemirror_mode": {
    "name": "ipython",
    "version": 3
   },
   "file_extension": ".py",
   "mimetype": "text/x-python",
   "name": "python",
   "nbconvert_exporter": "python",
   "pygments_lexer": "ipython3",
   "version": "3.6.5"
  }
 },
 "nbformat": 4,
 "nbformat_minor": 2
}
